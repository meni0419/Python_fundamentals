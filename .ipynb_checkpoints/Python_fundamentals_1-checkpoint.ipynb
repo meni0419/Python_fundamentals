{
 "cells": [
  {
   "cell_type": "code",
   "execution_count": 1,
   "id": "d6ea0c84-8bb2-421a-8c87-d732e6fda5f7",
   "metadata": {},
   "outputs": [
    {
     "data": {
      "text/plain": [
       "2"
      ]
     },
     "execution_count": 1,
     "metadata": {},
     "output_type": "execute_result"
    }
   ],
   "source": [
    "1+1"
   ]
  },
  {
   "cell_type": "code",
   "execution_count": 2,
   "id": "76b1020b-c967-4789-87dc-f618276f0d7a",
   "metadata": {},
   "outputs": [
    {
     "name": "stdin",
     "output_type": "stream",
     "text": [
      "Type number of week: 2\n"
     ]
    },
    {
     "name": "stdout",
     "output_type": "stream",
     "text": [
      "List of subject:\n",
      "Python Fundamentals\n",
      "Linux\n",
      "German\n",
      "Databases\n"
     ]
    }
   ],
   "source": [
    "week = input(\"Type number of week:\") # give the input field\n",
    "\n",
    "# list of subject for week 1,2,3\n",
    "subjects = {\n",
    "    \"1\": [\"Introduction\"],\n",
    "    \"2\": [\"Python Fundamentals\", \"Linux\", \"German\", \"Databases\"],\n",
    "    \"3\": [\"Python Fundamentals\", \"Linux\", \"Databases\", \"German\"]\n",
    "}\n",
    "\n",
    "# printing the subjects with beauty style\n",
    "print(\"List of subject:\")\n",
    "for subject in subjects.get(week, \"Invalid week number\"):\n",
    "    print(subject)"
   ]
  },
  {
   "cell_type": "code",
   "execution_count": null,
   "id": "8916cd89-200a-4ac9-83d2-bfcaa72177b5",
   "metadata": {},
   "outputs": [],
   "source": []
  }
 ],
 "metadata": {
  "kernelspec": {
   "display_name": "Python 3 (ipykernel)",
   "language": "python",
   "name": "python3"
  },
  "language_info": {
   "codemirror_mode": {
    "name": "ipython",
    "version": 3
   },
   "file_extension": ".py",
   "mimetype": "text/x-python",
   "name": "python",
   "nbconvert_exporter": "python",
   "pygments_lexer": "ipython3",
   "version": "3.9.13"
  }
 },
 "nbformat": 4,
 "nbformat_minor": 5
}
