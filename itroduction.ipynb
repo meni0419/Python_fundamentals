{
 "cells": [
  {
   "cell_type": "code",
   "execution_count": 11,
   "id": "bb857dfc-8b28-4f54-9b47-9b322333c936",
   "metadata": {},
   "outputs": [
    {
     "name": "stdout",
     "output_type": "stream",
     "text": [
      "70000\n"
     ]
    }
   ],
   "source": [
    "a = 50000\n",
    "y = 5\n",
    "p = 5000\n",
    "for i in range(y-1):\n",
    "    a += p\n",
    "print(int(a))"
   ]
  },
  {
   "cell_type": "code",
   "execution_count": 10,
   "id": "ebfed42e-e517-4572-9f38-718e5461fe5a",
   "metadata": {},
   "outputs": [
    {
     "name": "stdout",
     "output_type": "stream",
     "text": [
      "70000\n"
     ]
    }
   ],
   "source": [
    "a = 50000\n",
    "y = 5\n",
    "p = 5000\n",
    "a += p*(y-1)\n",
    "print(int(a))"
   ]
  },
  {
   "cell_type": "code",
   "execution_count": 6,
   "id": "2c763e8c-295d-47af-9cb5-c976a880e7f7",
   "metadata": {},
   "outputs": [
    {
     "name": "stdout",
     "output_type": "stream",
     "text": [
      "5000\n"
     ]
    }
   ],
   "source": [
    "ss = 50000\n",
    "se = 30000\n",
    "y = 5\n",
    "a = (ss - se)/(y-1)\n",
    "print(int(a))"
   ]
  },
  {
   "cell_type": "code",
   "execution_count": 9,
   "id": "80c7691d-b00e-4a99-a1da-5ab70aecb1ea",
   "metadata": {},
   "outputs": [
    {
     "name": "stdout",
     "output_type": "stream",
     "text": [
      "300000\n"
     ]
    }
   ],
   "source": [
    "a = 50000\n",
    "y = 5\n",
    "p = 5000\n",
    "s = a\n",
    "for i in range(y-1):\n",
    "    a += p\n",
    "    s = a + s\n",
    "print(int(s))"
   ]
  },
  {
   "cell_type": "code",
   "execution_count": 24,
   "id": "f69d594f-7221-43cd-808f-8efbc84ff23b",
   "metadata": {},
   "outputs": [
    {
     "name": "stdin",
     "output_type": "stream",
     "text": [
      "binary: 110010\n"
     ]
    },
    {
     "ename": "TypeError",
     "evalue": "unsupported operand type(s) for -: 'str' and 'int'",
     "output_type": "error",
     "traceback": [
      "\u001b[1;31m---------------------------------------------------------------------------\u001b[0m",
      "\u001b[1;31mTypeError\u001b[0m                                 Traceback (most recent call last)",
      "Cell \u001b[1;32mIn[24], line 5\u001b[0m\n\u001b[0;32m      2\u001b[0m b \u001b[38;5;241m=\u001b[39m \u001b[38;5;28minput\u001b[39m(\u001b[38;5;124m\"\u001b[39m\u001b[38;5;124mbinary:\u001b[39m\u001b[38;5;124m\"\u001b[39m)\n\u001b[0;32m      3\u001b[0m dc \u001b[38;5;241m=\u001b[39m \u001b[38;5;241m0\u001b[39m\n\u001b[1;32m----> 5\u001b[0m \u001b[38;5;28;01mfor\u001b[39;00m i \u001b[38;5;129;01min\u001b[39;00m \u001b[38;5;28mrange\u001b[39m(\u001b[38;5;28mlen\u001b[39m(\u001b[43mb\u001b[49m\u001b[38;5;241;43m-\u001b[39;49m\u001b[38;5;241;43m1\u001b[39;49m)):\n\u001b[0;32m      6\u001b[0m     dc \u001b[38;5;241m+\u001b[39m\u001b[38;5;241m=\u001b[39m \u001b[38;5;28mint\u001b[39m(b[i]) \u001b[38;5;241m*\u001b[39m (\u001b[38;5;241m2\u001b[39m \u001b[38;5;241m*\u001b[39m\u001b[38;5;241m*\u001b[39m (\u001b[38;5;28mlen\u001b[39m(b) \u001b[38;5;241m-\u001b[39m i))\n\u001b[0;32m      8\u001b[0m \u001b[38;5;28mprint\u001b[39m(\u001b[38;5;124mf\u001b[39m\u001b[38;5;124m\"\u001b[39m\u001b[38;5;124mdecimal: \u001b[39m\u001b[38;5;132;01m{\u001b[39;00mdc\u001b[38;5;132;01m}\u001b[39;00m\u001b[38;5;124m\"\u001b[39m)\n",
      "\u001b[1;31mTypeError\u001b[0m: unsupported operand type(s) for -: 'str' and 'int'"
     ]
    }
   ],
   "source": [
    "w = 2\n",
    "b = input(\"binary:\")\n",
    "dc = 0\n",
    "\n",
    "for i in range(len(b)):\n",
    "    dc += int(b[i]) * (2 ** (len(b) - i - 1))\n",
    "\n",
    "print(f\"decimal: {dc}\")"
   ]
  },
  {
   "cell_type": "code",
   "execution_count": 16,
   "id": "ea5c428e-7e0d-458d-a888-8b1e7675c0a0",
   "metadata": {},
   "outputs": [
    {
     "name": "stdin",
     "output_type": "stream",
     "text": [
      "decimal number: 18\n"
     ]
    },
    {
     "name": "stdout",
     "output_type": "stream",
     "text": [
      "binary: 10010\n"
     ]
    }
   ],
   "source": [
    "def decimal_to_binary(n): \n",
    "    binary = \"\" \n",
    "    while n > 0: \n",
    "        binary = str(n % 2) + binary \n",
    "        n = n // 2 \n",
    "    return binary\n",
    "\n",
    "decimal_number = int(input(\"decimal number:\"))\n",
    "binary_number = decimal_to_binary(decimal_number) \n",
    "print(f\"binary: {binary_number}\")"
   ]
  },
  {
   "cell_type": "code",
   "execution_count": null,
   "id": "0938a36d-97dd-46f0-9747-5b01f60a3a82",
   "metadata": {},
   "outputs": [],
   "source": []
  }
 ],
 "metadata": {
  "kernelspec": {
   "display_name": "Python 3 (ipykernel)",
   "language": "python",
   "name": "python3"
  },
  "language_info": {
   "codemirror_mode": {
    "name": "ipython",
    "version": 3
   },
   "file_extension": ".py",
   "mimetype": "text/x-python",
   "name": "python",
   "nbconvert_exporter": "python",
   "pygments_lexer": "ipython3",
   "version": "3.9.13"
  }
 },
 "nbformat": 4,
 "nbformat_minor": 5
}
